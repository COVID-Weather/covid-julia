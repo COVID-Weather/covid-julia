{
 "cells": [
  {
   "cell_type": "code",
   "execution_count": 7,
   "metadata": {},
   "outputs": [
    {
     "name": "stderr",
     "output_type": "stream",
     "text": [
      "┌ Info: Precompiling PyPlot [d330b81b-6aea-500a-939a-2ce795aea3ee]\n",
      "└ @ Base loading.jl:1273\n"
     ]
    }
   ],
   "source": [
    "using Distributions, PyPlot"
   ]
  },
  {
   "cell_type": "code",
   "execution_count": 37,
   "metadata": {},
   "outputs": [
    {
     "data": {
      "text/plain": [
       "prob_greg (generic function with 1 method)"
      ]
     },
     "execution_count": 37,
     "metadata": {},
     "output_type": "execute_result"
    }
   ],
   "source": [
    "infection_rate = 0.01\n",
    "contacted = 100\n",
    "\n",
    "prob_greg(contacted) = 1 - pdf(Binomial(contacted, 1-infection_rate), contacted)"
   ]
  },
  {
   "cell_type": "code",
   "execution_count": 38,
   "metadata": {},
   "outputs": [
    {
     "data": {
      "text/plain": [
       "prob_navid (generic function with 1 method)"
      ]
     },
     "execution_count": 38,
     "metadata": {},
     "output_type": "execute_result"
    }
   ],
   "source": [
    "prob_navid(contacted) = 1 - (1 - infection_rate)^contacted\n",
    "# nice!"
   ]
  },
  {
   "cell_type": "code",
   "execution_count": 40,
   "metadata": {},
   "outputs": [
    {
     "data": {
      "image/png": "[encoded data removed]",
      "text/plain": [
       "Figure(PyObject <Figure size 640x480 with 1 Axes>)"
      ]
     },
     "metadata": {},
     "output_type": "display_data"
    },
    {
     "data": {
      "text/plain": [
       "1-element Array{PyCall.PyObject,1}:\n",
       " PyObject <matplotlib.lines.Line2D object at 0x145053c50>"
      ]
     },
     "execution_count": 40,
     "metadata": {},
     "output_type": "execute_result"
    }
   ],
   "source": [
    "contacted = 1:1000\n",
    "\n",
    "plot(prob_greg.(contacted))\n",
    "plot(prob_navid.(contacted))"
   ]
  },
  {
   "cell_type": "code",
   "execution_count": 27,
   "metadata": {},
   "outputs": [
    {
     "name": "stdout",
     "output_type": "stream",
     "text": [
      "search: \u001b[0m\u001b[1mB\u001b[22m\u001b[0m\u001b[1mi\u001b[22m\u001b[0m\u001b[1mn\u001b[22m\u001b[0m\u001b[1mo\u001b[22m\u001b[0m\u001b[1mm\u001b[22m\u001b[0m\u001b[1mi\u001b[22m\u001b[0m\u001b[1ma\u001b[22m\u001b[0m\u001b[1ml\u001b[22m \u001b[0m\u001b[1mb\u001b[22m\u001b[0m\u001b[1mi\u001b[22m\u001b[0m\u001b[1mn\u001b[22m\u001b[0m\u001b[1mo\u001b[22m\u001b[0m\u001b[1mm\u001b[22m\u001b[0m\u001b[1mi\u001b[22m\u001b[0m\u001b[1ma\u001b[22m\u001b[0m\u001b[1ml\u001b[22m Poisson\u001b[0m\u001b[1mB\u001b[22m\u001b[0m\u001b[1mi\u001b[22m\u001b[0m\u001b[1mn\u001b[22m\u001b[0m\u001b[1mo\u001b[22m\u001b[0m\u001b[1mm\u001b[22m\u001b[0m\u001b[1mi\u001b[22m\u001b[0m\u001b[1ma\u001b[22m\u001b[0m\u001b[1ml\u001b[22m Negative\u001b[0m\u001b[1mB\u001b[22m\u001b[0m\u001b[1mi\u001b[22m\u001b[0m\u001b[1mn\u001b[22m\u001b[0m\u001b[1mo\u001b[22m\u001b[0m\u001b[1mm\u001b[22m\u001b[0m\u001b[1mi\u001b[22m\u001b[0m\u001b[1ma\u001b[22m\u001b[0m\u001b[1ml\u001b[22m \u001b[0m\u001b[1mB\u001b[22metaB\u001b[0m\u001b[1mi\u001b[22m\u001b[0m\u001b[1mn\u001b[22m\u001b[0m\u001b[1mo\u001b[22m\u001b[0m\u001b[1mm\u001b[22m\u001b[0m\u001b[1mi\u001b[22m\u001b[0m\u001b[1ma\u001b[22m\u001b[0m\u001b[1ml\u001b[22m\n",
      "\n"
     ]
    },
    {
     "data": {
      "text/latex": [
       "\\begin{verbatim}\n",
       "Binomial(n,p)\n",
       "\\end{verbatim}\n",
       "A \\emph{Binomial distribution} characterizes the number of successes in a sequence of independent trials. It has two parameters: \\texttt{n}, the number of trials, and \\texttt{p}, the probability of success in an individual trial, with the distribution:\n",
       "\n",
       "$$P(X = k) = {n \\choose k}p^k(1-p)^{n-k},  \\quad \\text{ for } k = 0,1,2, \\ldots, n.$$\n",
       "\\begin{verbatim}\n",
       "Binomial()      # Binomial distribution with n = 1 and p = 0.5\n",
       "Binomial(n)     # Binomial distribution for n trials with success rate p = 0.5\n",
       "Binomial(n, p)  # Binomial distribution for n trials with success rate p\n",
       "\n",
       "params(d)       # Get the parameters, i.e. (n, p)\n",
       "ntrials(d)      # Get the number of trials, i.e. n\n",
       "succprob(d)     # Get the success rate, i.e. p\n",
       "failprob(d)     # Get the failure rate, i.e. 1 - p\n",
       "\\end{verbatim}\n",
       "External links:\n",
       "\n",
       "\\begin{itemize}\n",
       "\\item \\href{http://en.wikipedia.org/wiki/Binomial_distribution}{Binomial distribution on Wikipedia}\n",
       "\n",
       "\\end{itemize}\n"
      ],
      "text/markdown": [
       "```\n",
       "Binomial(n,p)\n",
       "```\n",
       "\n",
       "A *Binomial distribution* characterizes the number of successes in a sequence of independent trials. It has two parameters: `n`, the number of trials, and `p`, the probability of success in an individual trial, with the distribution:\n",
       "\n",
       "$$\n",
       "P(X = k) = {n \\choose k}p^k(1-p)^{n-k},  \\quad \\text{ for } k = 0,1,2, \\ldots, n.\n",
       "$$\n",
       "\n",
       "```julia\n",
       "Binomial()      # Binomial distribution with n = 1 and p = 0.5\n",
       "Binomial(n)     # Binomial distribution for n trials with success rate p = 0.5\n",
       "Binomial(n, p)  # Binomial distribution for n trials with success rate p\n",
       "\n",
       "params(d)       # Get the parameters, i.e. (n, p)\n",
       "ntrials(d)      # Get the number of trials, i.e. n\n",
       "succprob(d)     # Get the success rate, i.e. p\n",
       "failprob(d)     # Get the failure rate, i.e. 1 - p\n",
       "```\n",
       "\n",
       "External links:\n",
       "\n",
       "  * [Binomial distribution on Wikipedia](http://en.wikipedia.org/wiki/Binomial_distribution)\n"
      ],
      "text/plain": [
       "\u001b[36m  Binomial(n,p)\u001b[39m\n",
       "\n",
       "  A \u001b[4mBinomial distribution\u001b[24m characterizes the number of successes in a sequence\n",
       "  of independent trials. It has two parameters: \u001b[36mn\u001b[39m, the number of trials, and\n",
       "  \u001b[36mp\u001b[39m, the probability of success in an individual trial, with the distribution:\n",
       "\n",
       "\u001b[35mP(X = k) = {n \\choose k}p^k(1-p)^{n-k},  \\quad \\text{ for } k = 0,1,2, \\ldots, n.\u001b[39m\n",
       "\n",
       "\u001b[36m  Binomial()      # Binomial distribution with n = 1 and p = 0.5\u001b[39m\n",
       "\u001b[36m  Binomial(n)     # Binomial distribution for n trials with success rate p = 0.5\u001b[39m\n",
       "\u001b[36m  Binomial(n, p)  # Binomial distribution for n trials with success rate p\u001b[39m\n",
       "\u001b[36m  \u001b[39m\n",
       "\u001b[36m  params(d)       # Get the parameters, i.e. (n, p)\u001b[39m\n",
       "\u001b[36m  ntrials(d)      # Get the number of trials, i.e. n\u001b[39m\n",
       "\u001b[36m  succprob(d)     # Get the success rate, i.e. p\u001b[39m\n",
       "\u001b[36m  failprob(d)     # Get the failure rate, i.e. 1 - p\u001b[39m\n",
       "\n",
       "  External links:\n",
       "\n",
       "    •    Binomial distribution on Wikipedia\n",
       "        (http://en.wikipedia.org/wiki/Binomial_distribution)"
      ]
     },
     "execution_count": 27,
     "metadata": {},
     "output_type": "execute_result"
    }
   ],
   "source": [
    "?Binomial"
   ]
  },
  {
   "cell_type": "code",
   "execution_count": 31,
   "metadata": {},
   "outputs": [
    {
     "name": "stdout",
     "output_type": "stream",
     "text": [
      "search: \u001b[0m\u001b[1mp\u001b[22m\u001b[0m\u001b[1md\u001b[22m\u001b[0m\u001b[1mf\u001b[22m log\u001b[0m\u001b[1mp\u001b[22m\u001b[0m\u001b[1md\u001b[22m\u001b[0m\u001b[1mf\u001b[22m log\u001b[0m\u001b[1mp\u001b[22m\u001b[0m\u001b[1md\u001b[22m\u001b[0m\u001b[1mf\u001b[22m! gradlog\u001b[0m\u001b[1mp\u001b[22m\u001b[0m\u001b[1md\u001b[22m\u001b[0m\u001b[1mf\u001b[22m C\u001b[0m\u001b[1mp\u001b[22mtr\u001b[0m\u001b[1md\u001b[22mi\u001b[0m\u001b[1mf\u001b[22mf_t com\u001b[0m\u001b[1mp\u001b[22monentwise_p\u001b[0m\u001b[1md\u001b[22m\u001b[0m\u001b[1mf\u001b[22m\n",
      "\n"
     ]
    },
    {
     "data": {
      "text/latex": [
       "\\begin{verbatim}\n",
       "pdf(d::UnivariateDistribution, x::Real)\n",
       "\\end{verbatim}\n",
       "Evaluate the probability density (mass) at \\texttt{x}.\n",
       "\n",
       "See also: \\href{@ref}{\\texttt{logpdf}}.\n",
       "\n",
       "\\rule{\\textwidth}{1pt}\n",
       "\\begin{verbatim}\n",
       "pdf(d::DiscreteUnivariateDistribution, x::T) where {T<:Real}\n",
       "\\end{verbatim}\n",
       "Evaluate the probability density (mass) at \\texttt{x}. If \\texttt{T} is not an \\texttt{Integer} type but \\texttt{x} is integer, the value is converted to \\texttt{Int}.\n",
       "\n",
       "The version with \\texttt{x::Integer} must be implemented by discrete distributions.\n",
       "\n",
       "See also: \\href{@ref}{\\texttt{logpdf}}.\n",
       "\n",
       "\\rule{\\textwidth}{1pt}\n",
       "\\begin{verbatim}\n",
       "pdf(d, x)\n",
       "\\end{verbatim}\n",
       "Calculates the PDF of the specified distribution 'd'.\n",
       "\n",
       "\\rule{\\textwidth}{1pt}\n",
       "\\begin{verbatim}\n",
       "pdf(d::MultivariateDistribution, x::AbstractArray)\n",
       "\\end{verbatim}\n",
       "Return the probability density of distribution \\texttt{d} evaluated at \\texttt{x}.\n",
       "\n",
       "\\begin{itemize}\n",
       "\\item If \\texttt{x} is a vector, it returns the result as a scalar.\n",
       "\n",
       "\n",
       "\\item If \\texttt{x} is a matrix with n columns, it returns a vector \\texttt{r} of length n, where \\texttt{r[i]} corresponds\n",
       "\n",
       "\\end{itemize}\n",
       "to \\texttt{x[:,i]} (i.e. treating each column as a sample).\n",
       "\n",
       "\\texttt{pdf!(r, d, x)} will write the results to a pre-allocated array \\texttt{r}.\n",
       "\n",
       "\\rule{\\textwidth}{1pt}\n",
       "\\begin{verbatim}\n",
       "pdf(d::MatrixDistribution, x::AbstractArray)\n",
       "\\end{verbatim}\n",
       "Compute the probability density at the input matrix \\texttt{x}.\n",
       "\n",
       "\\rule{\\textwidth}{1pt}\n",
       "\\begin{verbatim}\n",
       "pdf(d::Union{UnivariateMixture, MultivariateMixture}, x)\n",
       "\\end{verbatim}\n",
       "Evaluate the (mixed) probability density function over \\texttt{x}. Here, \\texttt{x} can be a single sample or an array of multiple samples.\n",
       "\n"
      ],
      "text/markdown": [
       "```\n",
       "pdf(d::UnivariateDistribution, x::Real)\n",
       "```\n",
       "\n",
       "Evaluate the probability density (mass) at `x`.\n",
       "\n",
       "See also: [`logpdf`](@ref).\n",
       "\n",
       "---\n",
       "\n",
       "```\n",
       "pdf(d::DiscreteUnivariateDistribution, x::T) where {T<:Real}\n",
       "```\n",
       "\n",
       "Evaluate the probability density (mass) at `x`. If `T` is not an `Integer` type but `x` is integer, the value is converted to `Int`.\n",
       "\n",
       "The version with `x::Integer` must be implemented by discrete distributions.\n",
       "\n",
       "See also: [`logpdf`](@ref).\n",
       "\n",
       "---\n",
       "\n",
       "```\n",
       "pdf(d, x)\n",
       "```\n",
       "\n",
       "Calculates the PDF of the specified distribution 'd'.\n",
       "\n",
       "---\n",
       "\n",
       "```\n",
       "pdf(d::MultivariateDistribution, x::AbstractArray)\n",
       "```\n",
       "\n",
       "Return the probability density of distribution `d` evaluated at `x`.\n",
       "\n",
       "  * If `x` is a vector, it returns the result as a scalar.\n",
       "  * If `x` is a matrix with n columns, it returns a vector `r` of length n, where `r[i]` corresponds\n",
       "\n",
       "to `x[:,i]` (i.e. treating each column as a sample).\n",
       "\n",
       "`pdf!(r, d, x)` will write the results to a pre-allocated array `r`.\n",
       "\n",
       "---\n",
       "\n",
       "```\n",
       "pdf(d::MatrixDistribution, x::AbstractArray)\n",
       "```\n",
       "\n",
       "Compute the probability density at the input matrix `x`.\n",
       "\n",
       "---\n",
       "\n",
       "```\n",
       "pdf(d::Union{UnivariateMixture, MultivariateMixture}, x)\n",
       "```\n",
       "\n",
       "Evaluate the (mixed) probability density function over `x`. Here, `x` can be a single sample or an array of multiple samples.\n"
      ],
      "text/plain": [
       "\u001b[36m  pdf(d::UnivariateDistribution, x::Real)\u001b[39m\n",
       "\n",
       "  Evaluate the probability density (mass) at \u001b[36mx\u001b[39m.\n",
       "\n",
       "  See also: \u001b[36mlogpdf\u001b[39m.\n",
       "\n",
       "  ────────────────────────────────────────────────────────────────────────────\n",
       "\n",
       "\u001b[36m  pdf(d::DiscreteUnivariateDistribution, x::T) where {T<:Real}\u001b[39m\n",
       "\n",
       "  Evaluate the probability density (mass) at \u001b[36mx\u001b[39m. If \u001b[36mT\u001b[39m is not an \u001b[36mInteger\u001b[39m type\n",
       "  but \u001b[36mx\u001b[39m is integer, the value is converted to \u001b[36mInt\u001b[39m.\n",
       "\n",
       "  The version with \u001b[36mx::Integer\u001b[39m must be implemented by discrete distributions.\n",
       "\n",
       "  See also: \u001b[36mlogpdf\u001b[39m.\n",
       "\n",
       "  ────────────────────────────────────────────────────────────────────────────\n",
       "\n",
       "\u001b[36m  pdf(d, x)\u001b[39m\n",
       "\n",
       "  Calculates the PDF of the specified distribution 'd'.\n",
       "\n",
       "  ────────────────────────────────────────────────────────────────────────────\n",
       "\n",
       "\u001b[36m  pdf(d::MultivariateDistribution, x::AbstractArray)\u001b[39m\n",
       "\n",
       "  Return the probability density of distribution \u001b[36md\u001b[39m evaluated at \u001b[36mx\u001b[39m.\n",
       "\n",
       "    •    If \u001b[36mx\u001b[39m is a vector, it returns the result as a scalar.\n",
       "\n",
       "    •    If \u001b[36mx\u001b[39m is a matrix with n columns, it returns a vector \u001b[36mr\u001b[39m of length\n",
       "        n, where \u001b[36mr[i]\u001b[39m corresponds\n",
       "\n",
       "  to \u001b[36mx[:,i]\u001b[39m (i.e. treating each column as a sample).\n",
       "\n",
       "  \u001b[36mpdf!(r, d, x)\u001b[39m will write the results to a pre-allocated array \u001b[36mr\u001b[39m.\n",
       "\n",
       "  ────────────────────────────────────────────────────────────────────────────\n",
       "\n",
       "\u001b[36m  pdf(d::MatrixDistribution, x::AbstractArray)\u001b[39m\n",
       "\n",
       "  Compute the probability density at the input matrix \u001b[36mx\u001b[39m.\n",
       "\n",
       "  ────────────────────────────────────────────────────────────────────────────\n",
       "\n",
       "\u001b[36m  pdf(d::Union{UnivariateMixture, MultivariateMixture}, x)\u001b[39m\n",
       "\n",
       "  Evaluate the (mixed) probability density function over \u001b[36mx\u001b[39m. Here, \u001b[36mx\u001b[39m can be a\n",
       "  single sample or an array of multiple samples."
      ]
     },
     "execution_count": 31,
     "metadata": {},
     "output_type": "execute_result"
    }
   ],
   "source": [
    "?pdf"
   ]
  },
  {
   "cell_type": "code",
   "execution_count": 41,
   "metadata": {},
   "outputs": [
    {
     "name": "stdout",
     "output_type": "stream",
     "text": [
      "search: \u001b[0m\u001b[1mP\u001b[22m\u001b[0m\u001b[1mo\u001b[22m\u001b[0m\u001b[1mi\u001b[22m\u001b[0m\u001b[1ms\u001b[22m\u001b[0m\u001b[1ms\u001b[22m\u001b[0m\u001b[1mo\u001b[22m\u001b[0m\u001b[1mn\u001b[22m \u001b[0m\u001b[1mP\u001b[22m\u001b[0m\u001b[1mo\u001b[22m\u001b[0m\u001b[1mi\u001b[22m\u001b[0m\u001b[1ms\u001b[22m\u001b[0m\u001b[1ms\u001b[22m\u001b[0m\u001b[1mo\u001b[22m\u001b[0m\u001b[1mn\u001b[22mBinomial\n",
      "\n"
     ]
    },
    {
     "data": {
      "text/latex": [
       "\\begin{verbatim}\n",
       "Poisson(λ)\n",
       "\\end{verbatim}\n",
       "A \\emph{Poisson distribution} descibes the number of independent events occurring within a unit time interval, given the average rate of occurrence \\texttt{λ}.\n",
       "\n",
       "$$P(X = k) = \\frac{\\lambda^k}{k!} e^{-\\lambda}, \\quad \\text{ for } k = 0,1,2,\\ldots.$$\n",
       "\\begin{verbatim}\n",
       "Poisson()        # Poisson distribution with rate parameter 1\n",
       "Poisson(lambda)       # Poisson distribution with rate parameter lambda\n",
       "\n",
       "params(d)        # Get the parameters, i.e. (λ,)\n",
       "mean(d)          # Get the mean arrival rate, i.e. λ\n",
       "\\end{verbatim}\n",
       "External links:\n",
       "\n",
       "\\begin{itemize}\n",
       "\\item \\href{http://en.wikipedia.org/wiki/Poisson_distribution}{Poisson distribution on Wikipedia}\n",
       "\n",
       "\\end{itemize}\n"
      ],
      "text/markdown": [
       "```\n",
       "Poisson(λ)\n",
       "```\n",
       "\n",
       "A *Poisson distribution* descibes the number of independent events occurring within a unit time interval, given the average rate of occurrence `λ`.\n",
       "\n",
       "$$\n",
       "P(X = k) = \\frac{\\lambda^k}{k!} e^{-\\lambda}, \\quad \\text{ for } k = 0,1,2,\\ldots.\n",
       "$$\n",
       "\n",
       "```julia\n",
       "Poisson()        # Poisson distribution with rate parameter 1\n",
       "Poisson(lambda)       # Poisson distribution with rate parameter lambda\n",
       "\n",
       "params(d)        # Get the parameters, i.e. (λ,)\n",
       "mean(d)          # Get the mean arrival rate, i.e. λ\n",
       "```\n",
       "\n",
       "External links:\n",
       "\n",
       "  * [Poisson distribution on Wikipedia](http://en.wikipedia.org/wiki/Poisson_distribution)\n"
      ],
      "text/plain": [
       "\u001b[36m  Poisson(λ)\u001b[39m\n",
       "\n",
       "  A \u001b[4mPoisson distribution\u001b[24m descibes the number of independent events occurring\n",
       "  within a unit time interval, given the average rate of occurrence \u001b[36mλ\u001b[39m.\n",
       "\n",
       "\u001b[35mP(X = k) = \\frac{\\lambda^k}{k!} e^{-\\lambda}, \\quad \\text{ for } k = 0,1,2,\\ldots.\u001b[39m\n",
       "\n",
       "\u001b[36m  Poisson()        # Poisson distribution with rate parameter 1\u001b[39m\n",
       "\u001b[36m  Poisson(lambda)       # Poisson distribution with rate parameter lambda\u001b[39m\n",
       "\u001b[36m  \u001b[39m\n",
       "\u001b[36m  params(d)        # Get the parameters, i.e. (λ,)\u001b[39m\n",
       "\u001b[36m  mean(d)          # Get the mean arrival rate, i.e. λ\u001b[39m\n",
       "\n",
       "  External links:\n",
       "\n",
       "    •    Poisson distribution on Wikipedia\n",
       "        (http://en.wikipedia.org/wiki/Poisson_distribution)"
      ]
     },
     "execution_count": 41,
     "metadata": {},
     "output_type": "execute_result"
    }
   ],
   "source": [
    "?Poisson"
   ]
  },
  {
   "cell_type": "code",
   "execution_count": 72,
   "metadata": {},
   "outputs": [
    {
     "data": {
      "text/plain": [
       "13"
      ]
     },
     "execution_count": 72,
     "metadata": {},
     "output_type": "execute_result"
    }
   ],
   "source": [
    "pois = Poisson(10)\n",
    "rand(pois)"
   ]
  },
  {
   "cell_type": "code",
   "execution_count": null,
   "metadata": {},
   "outputs": [],
   "source": []
  }
 ],
 "metadata": {
  "kernelspec": {
   "display_name": "Julia 1.3.1",
   "language": "julia",
   "name": "julia-1.3"
  },
  "language_info": {
   "file_extension": ".jl",
   "mimetype": "application/julia",
   "name": "julia",
   "version": "1.3.1"
  }
 },
 "nbformat": 4,
 "nbformat_minor": 4
}
