{
 "cells": [
  {
   "cell_type": "code",
   "execution_count": 16,
   "metadata": {},
   "outputs": [
    {
     "name": "stderr",
     "output_type": "stream",
     "text": [
      "┌ Info: Precompiling UnicodePlots [b8865327-cd53-5732-bb35-84acbb429228]\n",
      "└ @ Base loading.jl:1273\n"
     ]
    }
   ],
   "source": [
    "using Agents, Random, Distributions, UnicodePlots\n",
    "\n",
    "Random.seed!(123);"
   ]
  },
  {
   "cell_type": "code",
   "execution_count": 17,
   "metadata": {},
   "outputs": [
    {
     "data": {
      "text/plain": [
       "2-element Array{Symbol,1}:\n",
       " :status   \n",
       " :infection"
      ]
     },
     "execution_count": 17,
     "metadata": {},
     "output_type": "execute_result"
    }
   ],
   "source": [
    "mutable struct Human <: AbstractAgent\n",
    "           id :: Int \n",
    "       status :: Symbol # :susceptible, :infected, or :removed\n",
    "    infection :: Float64\n",
    "end\n",
    "\n",
    "agent_properties = [:status, :infection]"
   ]
  },
  {
   "cell_type": "code",
   "execution_count": 18,
   "metadata": {},
   "outputs": [
    {
     "data": {
      "text/plain": [
       "AgentBasedModel with 1000 agents of type Human\n",
       " no space\n",
       " scheduler: fastest\n",
       " properties: Dict{Symbol,Real}(:infection_rate => 0.1,:p_infection => 0.0,:contact_rate => 0.1,:infected => 10,:total => 1000,:time_step => 1.0)"
      ]
     },
     "execution_count": 18,
     "metadata": {},
     "output_type": "execute_result"
    }
   ],
   "source": [
    "function SIRModel(;\n",
    "                              humans = 1000,         # Number of susceptible\n",
    "                            infected = 10,           # Number of infected\n",
    "                        contact_rate = 0.1,\n",
    "                      infection_rate = 0.1,\n",
    "                   initial_infection = Uniform(0, 1), # Probability distribution for time-since-infected\n",
    "                           time_step = 1.0           # hours\n",
    "                  )   \n",
    "\n",
    "    model_properties = Dict(\n",
    "                            :contact_rate   => contact_rate,\n",
    "                            :infection_rate => infection_rate,\n",
    "                            :total          => humans,\n",
    "                            :infected       => infected,\n",
    "                            :p_infection    => 0.0,\n",
    "                            :time_step      => time_step,\n",
    "                           )   \n",
    "\n",
    "    model = ABM(Human, scheduler=fastest, properties=model_properties)\n",
    "\n",
    "    # Initialize susceptible population\n",
    "    susceptible = humans - infected\n",
    "\n",
    "    for i = 1:susceptible\n",
    "        add_agent!(model, :susceptible, 0.0)\n",
    "    end \n",
    "\n",
    "    # Initialize infected population\n",
    "    for i = 1:infected\n",
    "        add_agent!(model, :infected, 0) #rand(initial_infection))\n",
    "    end \n",
    "\n",
    "    return model\n",
    "end\n",
    "\n",
    "model = SIRModel() # test whether function works..."
   ]
  },
  {
   "cell_type": "code",
   "execution_count": 19,
   "metadata": {},
   "outputs": [
    {
     "data": {
      "text/plain": [
       "agent_step! (generic function with 1 method)"
      ]
     },
     "execution_count": 19,
     "metadata": {},
     "output_type": "execute_result"
    }
   ],
   "source": [
    "function agent_step!(agent, m)\n",
    "    \n",
    "    if agent.status == :removed\n",
    "        return nothing\n",
    "        \n",
    "    elseif agent.status  == :susceptible\n",
    "        \n",
    "        # Define a stochastic process that determines whether the \n",
    "        # agent becomes infected.\n",
    "        \n",
    "        # The (random) number of infected people this agent contacts\n",
    "        contacted = round(Int, rand(Gamma(m.infected, m.contact_rate * m.time_step)))\n",
    "        \n",
    "        # The probability that a susceptible is infected...\n",
    "        p_infected = 1 - cdf(Binomial(contacted, m.infection_rate), 1)\n",
    "        \n",
    "        if rand(Bernoulli(p_infected))\n",
    "            agent.status = :infected\n",
    "        end\n",
    "        \n",
    "    elseif agent.status == :infected\n",
    "        \n",
    "        agent.infection += m.time_step\n",
    "        \n",
    "        # agent may become removed\n",
    "    end \n",
    "\n",
    "    return nothing\n",
    "end"
   ]
  },
  {
   "cell_type": "code",
   "execution_count": 21,
   "metadata": {},
   "outputs": [
    {
     "data": {
      "text/html": [
       "<table class=\"data-frame\"><thead><tr><th></th><th>id</th><th>status</th><th>infection</th><th>step</th></tr><tr><th></th><th>Int64</th><th>Symbol</th><th>Float64</th><th>Int64</th></tr></thead><tbody><p>180 rows × 4 columns</p><tr><th>1</th><td>991</td><td>infected</td><td>0.0</td><td>0</td></tr><tr><th>2</th><td>992</td><td>infected</td><td>0.0</td><td>0</td></tr><tr><th>3</th><td>993</td><td>infected</td><td>0.0</td><td>0</td></tr><tr><th>4</th><td>994</td><td>infected</td><td>0.0</td><td>0</td></tr><tr><th>5</th><td>995</td><td>infected</td><td>0.0</td><td>0</td></tr><tr><th>6</th><td>996</td><td>infected</td><td>0.0</td><td>0</td></tr><tr><th>7</th><td>997</td><td>infected</td><td>0.0</td><td>0</td></tr><tr><th>8</th><td>998</td><td>infected</td><td>0.0</td><td>0</td></tr><tr><th>9</th><td>999</td><td>infected</td><td>0.0</td><td>0</td></tr><tr><th>10</th><td>1000</td><td>infected</td><td>0.0</td><td>0</td></tr><tr><th>11</th><td>991</td><td>infected</td><td>1.0</td><td>1</td></tr><tr><th>12</th><td>992</td><td>infected</td><td>1.0</td><td>1</td></tr><tr><th>13</th><td>993</td><td>infected</td><td>1.0</td><td>1</td></tr><tr><th>14</th><td>994</td><td>infected</td><td>1.0</td><td>1</td></tr><tr><th>15</th><td>995</td><td>infected</td><td>1.0</td><td>1</td></tr><tr><th>16</th><td>996</td><td>infected</td><td>1.0</td><td>1</td></tr><tr><th>17</th><td>997</td><td>infected</td><td>1.0</td><td>1</td></tr><tr><th>18</th><td>998</td><td>infected</td><td>1.0</td><td>1</td></tr><tr><th>19</th><td>999</td><td>infected</td><td>1.0</td><td>1</td></tr><tr><th>20</th><td>1000</td><td>infected</td><td>1.0</td><td>1</td></tr><tr><th>21</th><td>154</td><td>infected</td><td>0.0</td><td>2</td></tr><tr><th>22</th><td>508</td><td>infected</td><td>0.0</td><td>2</td></tr><tr><th>23</th><td>702</td><td>infected</td><td>0.0</td><td>2</td></tr><tr><th>24</th><td>857</td><td>infected</td><td>0.0</td><td>2</td></tr><tr><th>25</th><td>991</td><td>infected</td><td>2.0</td><td>2</td></tr><tr><th>26</th><td>992</td><td>infected</td><td>2.0</td><td>2</td></tr><tr><th>27</th><td>993</td><td>infected</td><td>2.0</td><td>2</td></tr><tr><th>28</th><td>994</td><td>infected</td><td>2.0</td><td>2</td></tr><tr><th>29</th><td>995</td><td>infected</td><td>2.0</td><td>2</td></tr><tr><th>30</th><td>996</td><td>infected</td><td>2.0</td><td>2</td></tr><tr><th>&vellip;</th><td>&vellip;</td><td>&vellip;</td><td>&vellip;</td><td>&vellip;</td></tr></tbody></table>"
      ],
      "text/latex": [
       "\\begin{tabular}{r|cccc}\n",
       "\t& id & status & infection & step\\\\\n",
       "\t\\hline\n",
       "\t& Int64 & Symbol & Float64 & Int64\\\\\n",
       "\t\\hline\n",
       "\t1 & 991 & infected & 0.0 & 0 \\\\\n",
       "\t2 & 992 & infected & 0.0 & 0 \\\\\n",
       "\t3 & 993 & infected & 0.0 & 0 \\\\\n",
       "\t4 & 994 & infected & 0.0 & 0 \\\\\n",
       "\t5 & 995 & infected & 0.0 & 0 \\\\\n",
       "\t6 & 996 & infected & 0.0 & 0 \\\\\n",
       "\t7 & 997 & infected & 0.0 & 0 \\\\\n",
       "\t8 & 998 & infected & 0.0 & 0 \\\\\n",
       "\t9 & 999 & infected & 0.0 & 0 \\\\\n",
       "\t10 & 1000 & infected & 0.0 & 0 \\\\\n",
       "\t11 & 991 & infected & 1.0 & 1 \\\\\n",
       "\t12 & 992 & infected & 1.0 & 1 \\\\\n",
       "\t13 & 993 & infected & 1.0 & 1 \\\\\n",
       "\t14 & 994 & infected & 1.0 & 1 \\\\\n",
       "\t15 & 995 & infected & 1.0 & 1 \\\\\n",
       "\t16 & 996 & infected & 1.0 & 1 \\\\\n",
       "\t17 & 997 & infected & 1.0 & 1 \\\\\n",
       "\t18 & 998 & infected & 1.0 & 1 \\\\\n",
       "\t19 & 999 & infected & 1.0 & 1 \\\\\n",
       "\t20 & 1000 & infected & 1.0 & 1 \\\\\n",
       "\t21 & 154 & infected & 0.0 & 2 \\\\\n",
       "\t22 & 508 & infected & 0.0 & 2 \\\\\n",
       "\t23 & 702 & infected & 0.0 & 2 \\\\\n",
       "\t24 & 857 & infected & 0.0 & 2 \\\\\n",
       "\t25 & 991 & infected & 2.0 & 2 \\\\\n",
       "\t26 & 992 & infected & 2.0 & 2 \\\\\n",
       "\t27 & 993 & infected & 2.0 & 2 \\\\\n",
       "\t28 & 994 & infected & 2.0 & 2 \\\\\n",
       "\t29 & 995 & infected & 2.0 & 2 \\\\\n",
       "\t30 & 996 & infected & 2.0 & 2 \\\\\n",
       "\t$\\dots$ & $\\dots$ & $\\dots$ & $\\dots$ & $\\dots$ \\\\\n",
       "\\end{tabular}\n"
      ],
      "text/plain": [
       "180×4 DataFrames.DataFrame\n",
       "│ Row │ id    │ status   │ infection │ step  │\n",
       "│     │ \u001b[90mInt64\u001b[39m │ \u001b[90mSymbol\u001b[39m   │ \u001b[90mFloat64\u001b[39m   │ \u001b[90mInt64\u001b[39m │\n",
       "├─────┼───────┼──────────┼───────────┼───────┤\n",
       "│ 1   │ 991   │ infected │ 0.0       │ 0     │\n",
       "│ 2   │ 992   │ infected │ 0.0       │ 0     │\n",
       "│ 3   │ 993   │ infected │ 0.0       │ 0     │\n",
       "│ 4   │ 994   │ infected │ 0.0       │ 0     │\n",
       "│ 5   │ 995   │ infected │ 0.0       │ 0     │\n",
       "│ 6   │ 996   │ infected │ 0.0       │ 0     │\n",
       "│ 7   │ 997   │ infected │ 0.0       │ 0     │\n",
       "│ 8   │ 998   │ infected │ 0.0       │ 0     │\n",
       "│ 9   │ 999   │ infected │ 0.0       │ 0     │\n",
       "│ 10  │ 1000  │ infected │ 0.0       │ 0     │\n",
       "⋮\n",
       "│ 170 │ 926   │ infected │ 5.0       │ 10    │\n",
       "│ 171 │ 991   │ infected │ 10.0      │ 10    │\n",
       "│ 172 │ 992   │ infected │ 10.0      │ 10    │\n",
       "│ 173 │ 993   │ infected │ 10.0      │ 10    │\n",
       "│ 174 │ 994   │ infected │ 10.0      │ 10    │\n",
       "│ 175 │ 995   │ infected │ 10.0      │ 10    │\n",
       "│ 176 │ 996   │ infected │ 10.0      │ 10    │\n",
       "│ 177 │ 997   │ infected │ 10.0      │ 10    │\n",
       "│ 178 │ 998   │ infected │ 10.0      │ 10    │\n",
       "│ 179 │ 999   │ infected │ 10.0      │ 10    │\n",
       "│ 180 │ 1000  │ infected │ 10.0      │ 10    │"
      ]
     },
     "execution_count": 21,
     "metadata": {},
     "output_type": "execute_result"
    }
   ],
   "source": [
    "model = SIRModel()\n",
    "data = step!(model, agent_step!, 10, agent_properties)\n",
    "\n",
    "infected = filter(x -> x.status === :infected, data)"
   ]
  },
  {
   "cell_type": "code",
   "execution_count": 22,
   "metadata": {},
   "outputs": [
    {
     "data": {
      "text/plain": [
       "\u001b[90m                ┌                                        ┐\u001b[39m \n",
       "   \u001b[0m\u001b[90m[\u001b[0m 0.0\u001b[90m, \u001b[0m 2.0\u001b[90m)\u001b[0m\u001b[90m ┤\u001b[39m\u001b[32m▇▇▇▇▇▇▇▇▇▇▇▇▇▇▇▇▇▇▇▇▇▇▇▇▇▇▇▇▇▇▇▇▇▇▇▇\u001b[39m\u001b[0m 38 \u001b[90m \u001b[39m \n",
       "   \u001b[0m\u001b[90m[\u001b[0m 2.0\u001b[90m, \u001b[0m 4.0\u001b[90m)\u001b[0m\u001b[90m ┤\u001b[39m\u001b[32m▇▇▇▇▇▇▇▇▇▇▇▇▇▇▇▇▇▇▇▇▇▇▇▇▇▇▇▇▇▇▇▇▇▇▇▇\u001b[39m\u001b[0m 38 \u001b[90m \u001b[39m \n",
       "   \u001b[0m\u001b[90m[\u001b[0m 4.0\u001b[90m, \u001b[0m 6.0\u001b[90m)\u001b[0m\u001b[90m ┤\u001b[39m\u001b[32m▇▇▇▇▇▇▇▇▇▇▇▇▇▇▇▇▇▇▇▇▇▇▇▇▇▇▇▇▇▇▇▇▇▇▇▇\u001b[39m\u001b[0m 38 \u001b[90m \u001b[39m \n",
       "   \u001b[0m\u001b[90m[\u001b[0m 6.0\u001b[90m, \u001b[0m 8.0\u001b[90m)\u001b[0m\u001b[90m ┤\u001b[39m\u001b[32m▇▇▇▇▇▇▇▇▇▇▇▇▇▇▇▇▇▇▇▇▇▇▇▇▇▇▇▇▇▇\u001b[39m\u001b[0m 32       \u001b[90m \u001b[39m \n",
       "   \u001b[0m\u001b[90m[\u001b[0m 8.0\u001b[90m, \u001b[0m10.0\u001b[90m)\u001b[0m\u001b[90m ┤\u001b[39m\u001b[32m▇▇▇▇▇▇▇▇▇▇▇▇▇▇▇▇▇▇▇▇▇▇▇\u001b[39m\u001b[0m 24              \u001b[90m \u001b[39m \n",
       "   \u001b[0m\u001b[90m[\u001b[0m10.0\u001b[90m, \u001b[0m12.0\u001b[90m)\u001b[0m\u001b[90m ┤\u001b[39m\u001b[32m▇▇▇▇▇▇▇▇▇\u001b[39m\u001b[0m 10                            \u001b[90m \u001b[39m \n",
       "\u001b[90m                └                                        ┘\u001b[39m \n",
       "\u001b[0m                                Frequency"
      ]
     },
     "execution_count": 22,
     "metadata": {},
     "output_type": "execute_result"
    }
   ],
   "source": [
    "infection = infected[!, :infection]\n",
    "UnicodePlots.histogram(infection)"
   ]
  },
  {
   "cell_type": "code",
   "execution_count": null,
   "metadata": {},
   "outputs": [],
   "source": []
  }
 ],
 "metadata": {
  "kernelspec": {
   "display_name": "Julia 1.3.1",
   "language": "julia",
   "name": "julia-1.3"
  },
  "language_info": {
   "file_extension": ".jl",
   "mimetype": "application/julia",
   "name": "julia",
   "version": "1.3.1"
  }
 },
 "nbformat": 4,
 "nbformat_minor": 4
}
