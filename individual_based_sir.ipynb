{
 "cells": [
  {
   "cell_type": "code",
   "execution_count": 7,
   "metadata": {},
   "outputs": [],
   "source": [
    "using Agents, Random, Distributions, PyPlot\n",
    "\n",
    "Random.seed!(123);"
   ]
  },
  {
   "cell_type": "code",
   "execution_count": 8,
   "metadata": {},
   "outputs": [
    {
     "data": {
      "text/plain": [
       "2-element Array{Symbol,1}:\n",
       " :status   \n",
       " :infection"
      ]
     },
     "execution_count": 8,
     "metadata": {},
     "output_type": "execute_result"
    }
   ],
   "source": [
    "mutable struct Human <: AbstractAgent\n",
    "           id :: Int \n",
    "       status :: Symbol # :susceptible, :infected, or :removed\n",
    "    infection :: Float64\n",
    "end\n",
    "\n",
    "agent_properties = [:status, :infection]"
   ]
  },
  {
   "cell_type": "code",
   "execution_count": 9,
   "metadata": {},
   "outputs": [],
   "source": [
    "function SIRModel(;\n",
    "                              humans = 1000,         # Number of susceptible\n",
    "                            infected = 10,           # Number of infected\n",
    "                        contact_rate = 6.0,          # people / day\n",
    "                      infection_rate = 0.01,         # probability of infection upon contact\n",
    "                           time_step = 1/24          # days\n",
    "                  )   \n",
    "\n",
    "    model_properties = Dict(\n",
    "                            :contact_rate   => contact_rate,\n",
    "                            :infection_rate => infection_rate,\n",
    "                            :humans         => humans,\n",
    "                            :infected       => infected,\n",
    "                            :p_infection    => 0.0,\n",
    "                            :time_step      => time_step,\n",
    "                           )   \n",
    "\n",
    "    model = ABM(Human, scheduler=fastest, properties=model_properties)\n",
    "\n",
    "    # Initialize susceptible population\n",
    "    susceptible = humans - infected\n",
    "\n",
    "    for i = 1:susceptible\n",
    "        add_agent!(model, :susceptible, 0.0)\n",
    "    end \n",
    "\n",
    "    # Initialize infected population\n",
    "    for i = 1:infected\n",
    "        add_agent!(model, :infected, 0)\n",
    "    end \n",
    "\n",
    "    return model\n",
    "end\n",
    "\n",
    "model = SIRModel(); # test whether function works..."
   ]
  },
  {
   "cell_type": "code",
   "execution_count": 10,
   "metadata": {},
   "outputs": [
    {
     "data": {
      "text/plain": [
       "count_infected (generic function with 2 methods)"
      ]
     },
     "execution_count": 10,
     "metadata": {},
     "output_type": "execute_result"
    }
   ],
   "source": [
    "function agent_step!(agent, m)\n",
    "    \n",
    "    if agent.status == :removed\n",
    "        return nothing\n",
    "        \n",
    "    elseif agent.status  == :susceptible\n",
    "        \n",
    "        # Define a stochastic process that determines whether the \n",
    "        # agent becomes infected\n",
    "        \n",
    "        # The (random) number of infected people this agent contacts\n",
    "        infected_fraction = m.infected / m.humans   \n",
    "        contacted = rand(Poisson(m.contact_rate * m.time_step * infected_fraction))\n",
    "        \n",
    "        # The probability that a susceptible is infected...\n",
    "        p_infected =  1 - (1 - m.infection_rate)^contacted\n",
    "        \n",
    "        if rand(Bernoulli(p_infected))\n",
    "            agent.status = :infected\n",
    "        end\n",
    "        \n",
    "    elseif agent.status == :infected\n",
    "        \n",
    "        agent.infection += m.time_step\n",
    "        \n",
    "        # agent may become removed\n",
    "    end \n",
    "\n",
    "    return nothing\n",
    "end\n",
    "\n",
    "function model_step!(model)\n",
    "    infected_agents = [x.status === :infected for x in values(model.agents)]\n",
    "    model.properties[:infected] = sum(infected_agents)\n",
    "    return nothing\n",
    "end\n",
    "\n",
    "function count_infected(data, step)\n",
    "    infected = filter(x -> (x.step == step && x.status === :infected), data) \n",
    "    return size(infected, 1)\n",
    "end\n",
    "\n",
    "function count_infected(data)\n",
    "    infected = filter(x -> x.status === :infected, data) \n",
    "    return size(infected, 1)\n",
    "end"
   ]
  },
  {
   "cell_type": "code",
   "execution_count": 16,
   "metadata": {},
   "outputs": [
    {
     "data": {
      "text/plain": [
       "sir_simulation (generic function with 1 method)"
      ]
     },
     "execution_count": 16,
     "metadata": {},
     "output_type": "execute_result"
    }
   ],
   "source": [
    "function sir_simulation(; steps=30*24, kwargs...)\n",
    "\n",
    "    model = SIRModel(; kwargs...)\n",
    "    infected = zeros(steps)\n",
    "    time = zeros(steps)\n",
    "\n",
    "    for i = 1:steps\n",
    "        step_data = step!(model, agent_step!, model_step!, 1, agent_properties)\n",
    "        infected[i] = count_infected(step_data)\n",
    "        time[i] = i * model.time_step\n",
    "    end\n",
    "    \n",
    "    return time, infected\n",
    "end"
   ]
  },
  {
   "cell_type": "code",
   "execution_count": null,
   "metadata": {},
   "outputs": [],
   "source": [
    "for i = 1:3\n",
    "    for initial_infected in (1, 10, 100)\n",
    "        time, infected_timeseries = sir_simulation(humans = 2000,   # number of people\n",
    "                                                   infected = initial_infected,    # initial number of infected \n",
    "                                                   contact_rate = 6,      # per day\n",
    "                                                   infection_rate = 0.01,   # probability of infection during contact\n",
    "                                                   time_step = 1/24,   # time-step\n",
    "                                                   steps = 30 * 24\n",
    "                                                   )\n",
    "\n",
    "        semilogy(time, infected_timeseries / infected_timeseries[1])\n",
    "        xlabel(\"time (days)\")\n",
    "        ylabel(\"Pandemic / Initial infection size\")\n",
    "    end\n",
    "end"
   ]
  },
  {
   "cell_type": "code",
   "execution_count": null,
   "metadata": {},
   "outputs": [],
   "source": []
  }
 ],
 "metadata": {
  "kernelspec": {
   "display_name": "Julia 1.3.1",
   "language": "julia",
   "name": "julia-1.3"
  },
  "language_info": {
   "file_extension": ".jl",
   "mimetype": "application/julia",
   "name": "julia",
   "version": "1.3.1"
  }
 },
 "nbformat": 4,
 "nbformat_minor": 4
}
