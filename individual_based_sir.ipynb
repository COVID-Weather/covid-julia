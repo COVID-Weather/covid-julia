{
 "cells": [
  {
   "cell_type": "code",
   "execution_count": 23,
   "metadata": {},
   "outputs": [],
   "source": [
    "using Agents, Random, Distributions, UnicodePlots\n",
    "\n",
    "Random.seed!(123);"
   ]
  },
  {
   "cell_type": "code",
   "execution_count": 24,
   "metadata": {},
   "outputs": [
    {
     "data": {
      "text/plain": [
       "2-element Array{Symbol,1}:\n",
       " :status   \n",
       " :infection"
      ]
     },
     "execution_count": 24,
     "metadata": {},
     "output_type": "execute_result"
    }
   ],
   "source": [
    "mutable struct Human <: AbstractAgent\n",
    "           id :: Int \n",
    "       status :: Symbol # :susceptible, :infected, or :removed\n",
    "    infection :: Float64\n",
    "end\n",
    "\n",
    "agent_properties = [:status, :infection]"
   ]
  },
  {
   "cell_type": "code",
   "execution_count": 25,
   "metadata": {},
   "outputs": [
    {
     "data": {
      "text/plain": [
       "AgentBasedModel with 1000 agents of type Human\n",
       " no space\n",
       " scheduler: fastest\n",
       " properties: Dict{Symbol,Real}(:infection_rate => 0.1,:p_infection => 0.0,:contact_rate => 0.1,:infected => 10,:total => 1000,:time_step => 1.0)"
      ]
     },
     "execution_count": 25,
     "metadata": {},
     "output_type": "execute_result"
    }
   ],
   "source": [
    "function SIRModel(;\n",
    "                              humans = 1000,         # Number of susceptible\n",
    "                            infected = 10,           # Number of infected\n",
    "                        contact_rate = 0.1,\n",
    "                      infection_rate = 0.1,\n",
    "                           time_step = 1.0           # hours\n",
    "                  )   \n",
    "\n",
    "    model_properties = Dict(\n",
    "                            :contact_rate   => contact_rate,\n",
    "                            :infection_rate => infection_rate,\n",
    "                            :total          => humans,\n",
    "                            :infected       => infected,\n",
    "                            :p_infection    => 0.0,\n",
    "                            :time_step      => time_step,\n",
    "                           )   \n",
    "\n",
    "    model = ABM(Human, scheduler=fastest, properties=model_properties)\n",
    "\n",
    "    # Initialize susceptible population\n",
    "    susceptible = humans - infected\n",
    "\n",
    "    for i = 1:susceptible\n",
    "        add_agent!(model, :susceptible, 0.0)\n",
    "    end \n",
    "\n",
    "    # Initialize infected population\n",
    "    for i = 1:infected\n",
    "        add_agent!(model, :infected, 0)\n",
    "    end \n",
    "\n",
    "    return model\n",
    "end\n",
    "\n",
    "model = SIRModel() # test whether function works..."
   ]
  },
  {
   "cell_type": "code",
   "execution_count": 26,
   "metadata": {},
   "outputs": [
    {
     "data": {
      "text/plain": [
       "agent_step! (generic function with 1 method)"
      ]
     },
     "execution_count": 26,
     "metadata": {},
     "output_type": "execute_result"
    }
   ],
   "source": [
    "function agent_step!(agent, m)\n",
    "    \n",
    "    if agent.status == :removed\n",
    "        return nothing\n",
    "        \n",
    "    elseif agent.status  == :susceptible\n",
    "        \n",
    "        # Define a stochastic process that determines whether the \n",
    "        # agent becomes infected.\n",
    "        \n",
    "        # The (random) number of infected people this agent contacts\n",
    "        contacted = round(Int, rand(Gamma(m.infected, m.contact_rate * m.time_step)))\n",
    "        \n",
    "        # The probability that a susceptible is infected...\n",
    "        p_infected = 1 - cdf(Binomial(contacted, m.infection_rate), 1)\n",
    "        \n",
    "        if rand(Bernoulli(p_infected))\n",
    "            agent.status = :infected\n",
    "        end\n",
    "        \n",
    "    elseif agent.status == :infected\n",
    "        \n",
    "        agent.infection += m.time_step\n",
    "        \n",
    "        # agent may become removed\n",
    "    end \n",
    "\n",
    "    return nothing\n",
    "end"
   ]
  },
  {
   "cell_type": "code",
   "execution_count": null,
   "metadata": {},
   "outputs": [],
   "source": [
    "model = SIRModel(humans=100000, infected=10)\n",
    "data = step!(model, agent_step!, 100, agent_properties)\n",
    "\n",
    "infected = filter(x -> x.status === :infected, data)"
   ]
  },
  {
   "cell_type": "code",
   "execution_count": null,
   "metadata": {},
   "outputs": [],
   "source": [
    "infection = infected[!, :infection]\n",
    "UnicodePlots.histogram(infection)"
   ]
  }
 ],
 "metadata": {
  "kernelspec": {
   "display_name": "Julia 1.3.1",
   "language": "julia",
   "name": "julia-1.3"
  },
  "language_info": {
   "file_extension": ".jl",
   "mimetype": "application/julia",
   "name": "julia",
   "version": "1.3.1"
  }
 },
 "nbformat": 4,
 "nbformat_minor": 4
}
