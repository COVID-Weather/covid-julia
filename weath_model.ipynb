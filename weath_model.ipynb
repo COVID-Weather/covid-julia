{
 "cells": [
  {
   "cell_type": "code",
   "execution_count": 1,
   "metadata": {},
   "outputs": [
    {
     "name": "stdout",
     "output_type": "stream",
     "text": [
      "\u001b[32m\u001b[1mActivating\u001b[22m\u001b[39m environment at `~/Projects/covid-19/covid-julia/Project.toml`\n"
     ]
    }
   ],
   "source": [
    "using Pkg; Pkg.activate()\n",
    "\n",
    "using Agents"
   ]
  },
  {
   "cell_type": "code",
   "execution_count": 2,
   "metadata": {},
   "outputs": [],
   "source": [
    "mutable struct WealthAgent <: AbstractAgent\n",
    "        id :: Int\n",
    "    wealth :: Int\n",
    "end"
   ]
  },
  {
   "cell_type": "code",
   "execution_count": 3,
   "metadata": {},
   "outputs": [
    {
     "data": {
      "text/plain": [
       "wealth_model (generic function with 1 method)"
      ]
     },
     "execution_count": 3,
     "metadata": {},
     "output_type": "execute_result"
    }
   ],
   "source": [
    "function wealth_model(; numagents = 100, initwealth = 1)\n",
    "    \n",
    "    model = ABM(WealthAgent, scheduler=random_activation)\n",
    "    \n",
    "    for i in 1:numagents\n",
    "        add_agent!(model, initwealth)\n",
    "    end     \n",
    "    \n",
    "    return model\n",
    "end"
   ]
  },
  {
   "cell_type": "code",
   "execution_count": 4,
   "metadata": {},
   "outputs": [
    {
     "data": {
      "text/plain": [
       "agent_step! (generic function with 1 method)"
      ]
     },
     "execution_count": 4,
     "metadata": {},
     "output_type": "execute_result"
    }
   ],
   "source": [
    "model = wealth_model()\n",
    "\n",
    "# The next step is to define the agent step function\n",
    "function agent_step!(agent, model)\n",
    "    agent.wealth == 0 && return # do nothing\n",
    "    recipient = random_agent(model)\n",
    "    agent.wealth -= 1\n",
    "    recipient.wealth += 1\n",
    "end"
   ]
  },
  {
   "cell_type": "code",
   "execution_count": 5,
   "metadata": {},
   "outputs": [
    {
     "data": {
      "text/html": [
       "<table class=\"data-frame\"><thead><tr><th></th><th>id</th><th>wealth</th><th>step</th></tr><tr><th></th><th>Int64</th><th>Int64</th><th>Int64</th></tr></thead><tbody><p>21 rows × 3 columns</p><tr><th>1</th><td>1980</td><td>0</td><td>5</td></tr><tr><th>2</th><td>1981</td><td>0</td><td>5</td></tr><tr><th>3</th><td>1982</td><td>0</td><td>5</td></tr><tr><th>4</th><td>1983</td><td>1</td><td>5</td></tr><tr><th>5</th><td>1984</td><td>2</td><td>5</td></tr><tr><th>6</th><td>1985</td><td>2</td><td>5</td></tr><tr><th>7</th><td>1986</td><td>0</td><td>5</td></tr><tr><th>8</th><td>1987</td><td>1</td><td>5</td></tr><tr><th>9</th><td>1988</td><td>0</td><td>5</td></tr><tr><th>10</th><td>1989</td><td>0</td><td>5</td></tr><tr><th>11</th><td>1990</td><td>2</td><td>5</td></tr><tr><th>12</th><td>1991</td><td>5</td><td>5</td></tr><tr><th>13</th><td>1992</td><td>1</td><td>5</td></tr><tr><th>14</th><td>1993</td><td>0</td><td>5</td></tr><tr><th>15</th><td>1994</td><td>1</td><td>5</td></tr><tr><th>16</th><td>1995</td><td>2</td><td>5</td></tr><tr><th>17</th><td>1996</td><td>1</td><td>5</td></tr><tr><th>18</th><td>1997</td><td>1</td><td>5</td></tr><tr><th>19</th><td>1998</td><td>1</td><td>5</td></tr><tr><th>20</th><td>1999</td><td>0</td><td>5</td></tr><tr><th>21</th><td>2000</td><td>0</td><td>5</td></tr></tbody></table>"
      ],
      "text/latex": [
       "\\begin{tabular}{r|ccc}\n",
       "\t& id & wealth & step\\\\\n",
       "\t\\hline\n",
       "\t& Int64 & Int64 & Int64\\\\\n",
       "\t\\hline\n",
       "\t1 & 1980 & 0 & 5 \\\\\n",
       "\t2 & 1981 & 0 & 5 \\\\\n",
       "\t3 & 1982 & 0 & 5 \\\\\n",
       "\t4 & 1983 & 1 & 5 \\\\\n",
       "\t5 & 1984 & 2 & 5 \\\\\n",
       "\t6 & 1985 & 2 & 5 \\\\\n",
       "\t7 & 1986 & 0 & 5 \\\\\n",
       "\t8 & 1987 & 1 & 5 \\\\\n",
       "\t9 & 1988 & 0 & 5 \\\\\n",
       "\t10 & 1989 & 0 & 5 \\\\\n",
       "\t11 & 1990 & 2 & 5 \\\\\n",
       "\t12 & 1991 & 5 & 5 \\\\\n",
       "\t13 & 1992 & 1 & 5 \\\\\n",
       "\t14 & 1993 & 0 & 5 \\\\\n",
       "\t15 & 1994 & 1 & 5 \\\\\n",
       "\t16 & 1995 & 2 & 5 \\\\\n",
       "\t17 & 1996 & 1 & 5 \\\\\n",
       "\t18 & 1997 & 1 & 5 \\\\\n",
       "\t19 & 1998 & 1 & 5 \\\\\n",
       "\t20 & 1999 & 0 & 5 \\\\\n",
       "\t21 & 2000 & 0 & 5 \\\\\n",
       "\\end{tabular}\n"
      ],
      "text/plain": [
       "21×3 DataFrames.DataFrame\n",
       "│ Row │ id    │ wealth │ step  │\n",
       "│     │ \u001b[90mInt64\u001b[39m │ \u001b[90mInt64\u001b[39m  │ \u001b[90mInt64\u001b[39m │\n",
       "├─────┼───────┼────────┼───────┤\n",
       "│ 1   │ 1980  │ 0      │ 5     │\n",
       "│ 2   │ 1981  │ 0      │ 5     │\n",
       "│ 3   │ 1982  │ 0      │ 5     │\n",
       "│ 4   │ 1983  │ 1      │ 5     │\n",
       "│ 5   │ 1984  │ 2      │ 5     │\n",
       "│ 6   │ 1985  │ 2      │ 5     │\n",
       "│ 7   │ 1986  │ 0      │ 5     │\n",
       "│ 8   │ 1987  │ 1      │ 5     │\n",
       "│ 9   │ 1988  │ 0      │ 5     │\n",
       "│ 10  │ 1989  │ 0      │ 5     │\n",
       "│ 11  │ 1990  │ 2      │ 5     │\n",
       "│ 12  │ 1991  │ 5      │ 5     │\n",
       "│ 13  │ 1992  │ 1      │ 5     │\n",
       "│ 14  │ 1993  │ 0      │ 5     │\n",
       "│ 15  │ 1994  │ 1      │ 5     │\n",
       "│ 16  │ 1995  │ 2      │ 5     │\n",
       "│ 17  │ 1996  │ 1      │ 5     │\n",
       "│ 18  │ 1997  │ 1      │ 5     │\n",
       "│ 19  │ 1998  │ 1      │ 5     │\n",
       "│ 20  │ 1999  │ 0      │ 5     │\n",
       "│ 21  │ 2000  │ 0      │ 5     │"
      ]
     },
     "execution_count": 5,
     "metadata": {},
     "output_type": "execute_result"
    }
   ],
   "source": [
    "N = 5\n",
    "M = 2000\n",
    "agent_properties = [:wealth]\n",
    "model = wealth_model(numagents=M)\n",
    "data = step!(model, agent_step!, N, agent_properties)\n",
    "data[end-20:end, :]"
   ]
  },
  {
   "cell_type": "code",
   "execution_count": 6,
   "metadata": {},
   "outputs": [
    {
     "name": "stderr",
     "output_type": "stream",
     "text": [
      "┌ Info: Precompiling UnicodePlots [b8865327-cd53-5732-bb35-84acbb429228]\n",
      "└ @ Base loading.jl:1273\n"
     ]
    },
    {
     "data": {
      "text/plain": [
       "\u001b[90m                ┌                                        ┐\u001b[39m \n",
       "   \u001b[0m\u001b[90m[\u001b[0m 0.0\u001b[90m, \u001b[0m 1.0\u001b[90m)\u001b[0m\u001b[90m ┤\u001b[39m\u001b[32m▇▇▇▇▇▇▇▇▇▇▇▇▇▇▇▇▇▇▇▇▇▇▇▇▇▇▇▇▇▇▇▇▇▇▇\u001b[39m\u001b[0m 901 \u001b[90m \u001b[39m \n",
       "   \u001b[0m\u001b[90m[\u001b[0m 1.0\u001b[90m, \u001b[0m 2.0\u001b[90m)\u001b[0m\u001b[90m ┤\u001b[39m\u001b[32m▇▇▇▇▇▇▇▇▇▇▇▇▇▇▇▇▇▇▇▇▇▇▇\u001b[39m\u001b[0m 602             \u001b[90m \u001b[39m \n",
       "   \u001b[0m\u001b[90m[\u001b[0m 2.0\u001b[90m, \u001b[0m 3.0\u001b[90m)\u001b[0m\u001b[90m ┤\u001b[39m\u001b[32m▇▇▇▇▇▇▇▇▇▇▇\u001b[39m\u001b[0m 274                         \u001b[90m \u001b[39m \n",
       "   \u001b[0m\u001b[90m[\u001b[0m 3.0\u001b[90m, \u001b[0m 4.0\u001b[90m)\u001b[0m\u001b[90m ┤\u001b[39m\u001b[32m▇▇▇▇\u001b[39m\u001b[0m 113                                \u001b[90m \u001b[39m \n",
       "   \u001b[0m\u001b[90m[\u001b[0m 4.0\u001b[90m, \u001b[0m 5.0\u001b[90m)\u001b[0m\u001b[90m ┤\u001b[39m\u001b[32m▇▇▇\u001b[39m\u001b[0m 68                                  \u001b[90m \u001b[39m \n",
       "   \u001b[0m\u001b[90m[\u001b[0m 5.0\u001b[90m, \u001b[0m 6.0\u001b[90m)\u001b[0m\u001b[90m ┤\u001b[39m\u001b[32m▇\u001b[39m\u001b[0m 23                                    \u001b[90m \u001b[39m \n",
       "   \u001b[0m\u001b[90m[\u001b[0m 6.0\u001b[90m, \u001b[0m 7.0\u001b[90m)\u001b[0m\u001b[90m ┤\u001b[39m\u001b[0m 12                                     \u001b[90m \u001b[39m \n",
       "   \u001b[0m\u001b[90m[\u001b[0m 7.0\u001b[90m, \u001b[0m 8.0\u001b[90m)\u001b[0m\u001b[90m ┤\u001b[39m\u001b[0m 4                                      \u001b[90m \u001b[39m \n",
       "   \u001b[0m\u001b[90m[\u001b[0m 8.0\u001b[90m, \u001b[0m 9.0\u001b[90m)\u001b[0m\u001b[90m ┤\u001b[39m\u001b[0m 3                                      \u001b[90m \u001b[39m \n",
       "\u001b[90m                └                                        ┘\u001b[39m \n",
       "\u001b[0m                                Frequency"
      ]
     },
     "execution_count": 6,
     "metadata": {},
     "output_type": "execute_result"
    }
   ],
   "source": [
    "wealths = filter(x -> x.step == N, data)[!, :wealth]\n",
    "\n",
    "using UnicodePlots\n",
    "\n",
    "UnicodePlots.histogram(wealths)"
   ]
  },
  {
   "cell_type": "code",
   "execution_count": null,
   "metadata": {},
   "outputs": [],
   "source": []
  }
 ],
 "metadata": {
  "kernelspec": {
   "display_name": "Julia 1.3.1",
   "language": "julia",
   "name": "julia-1.3"
  },
  "language_info": {
   "file_extension": ".jl",
   "mimetype": "application/julia",
   "name": "julia",
   "version": "1.3.1"
  }
 },
 "nbformat": 4,
 "nbformat_minor": 4
}
